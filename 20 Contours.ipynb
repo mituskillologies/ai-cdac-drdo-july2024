{
 "cells": [
  {
   "cell_type": "code",
   "execution_count": 1,
   "id": "c952c722-8594-4e1d-a197-006951395d88",
   "metadata": {},
   "outputs": [],
   "source": [
    "import numpy as np\n",
    "import matplotlib.pyplot as plt\n",
    "import cv2"
   ]
  },
  {
   "cell_type": "code",
   "execution_count": 14,
   "id": "2831e02d-40a7-4c23-bfc8-9192e40f8387",
   "metadata": {},
   "outputs": [],
   "source": [
    "import cv2\n",
    "\n",
    "# Load the image\n",
    "img = cv2.imread('images/houseleft.jpg')\n",
    "gray = cv2.cvtColor(img, cv2.COLOR_BGR2GRAY)\n",
    "\n",
    "# Creates a binary image where pixels above 127 are set to 255 (white), \n",
    "# and others to 0 (black).\n",
    "thresh = cv2.threshold(gray, 127, 255, cv2.THRESH_BINARY)[1]\n",
    "\n",
    "# cv2.findContours finds contours in the binary image.\n",
    "# cv2.RETR_TREE retrieves all contours and creates a hierarchy tree.\n",
    "# cv2.CHAIN_APPROX_SIMPLE approximates contours to save memory.\n",
    "contours, hierarchy = cv2.findContours(thresh, cv2.RETR_TREE, \n",
    "                                       cv2.CHAIN_APPROX_SIMPLE)\n",
    "# -1 draws all contours.\n",
    "# (0, 255, 0) is the color (green).\n",
    "# 2 is the thickness of the lines.\n",
    "cv2.drawContours(img, contours, -1, (0, 255, 0), 2)  \n",
    "# Draw all contours in green\n",
    "\n",
    "# Display results\n",
    "cv2.imshow('Original Image', img)\n",
    "cv2.imshow('Thresholded Image', thresh)\n",
    "cv2.waitKey(0)\n",
    "cv2.destroyAllWindows()"
   ]
  },
  {
   "cell_type": "code",
   "execution_count": null,
   "id": "a904b6c3-2032-4050-ac8c-a0de94ed6d9b",
   "metadata": {},
   "outputs": [],
   "source": []
  },
  {
   "cell_type": "code",
   "execution_count": null,
   "id": "f504ebaa-965c-4659-ae7e-54a53bf9ee86",
   "metadata": {},
   "outputs": [],
   "source": []
  }
 ],
 "metadata": {
  "kernelspec": {
   "display_name": "Python 3 (ipykernel)",
   "language": "python",
   "name": "python3"
  },
  "language_info": {
   "codemirror_mode": {
    "name": "ipython",
    "version": 3
   },
   "file_extension": ".py",
   "mimetype": "text/x-python",
   "name": "python",
   "nbconvert_exporter": "python",
   "pygments_lexer": "ipython3",
   "version": "3.10.12"
  }
 },
 "nbformat": 4,
 "nbformat_minor": 5
}

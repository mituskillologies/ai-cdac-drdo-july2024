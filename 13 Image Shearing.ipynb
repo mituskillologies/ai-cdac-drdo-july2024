{
 "cells": [
  {
   "cell_type": "code",
   "execution_count": 4,
   "id": "757104e7-6b08-4f08-8a41-da80e5fbb268",
   "metadata": {},
   "outputs": [],
   "source": [
    "import cv2\n",
    "import numpy as np\n",
    "\n",
    "# Load the image\n",
    "image = cv2.imread(\"images/lenna.png\")\n",
    "\n",
    "# Define shearing factors (adjust as needed)\n",
    "shear_x = 0.25  # Shear along x-axis\n",
    "shear_y = 0.45  # Shear along y-axis\n",
    "\n",
    "# Create transformation matrix\n",
    "M = np.array([[1, shear_x, 0],\n",
    "              [shear_y, 1, 0],\n",
    "              [0, 0, 1]])\n",
    "\n",
    "rows, cols, _ = image.shape\n",
    "T = np.float32([[1, 0, 0], [0, 1, 50]]) \n",
    "\n",
    "# We use warpAffine to transform the image using the matrix, T \n",
    "img_translation = cv2.warpAffine(image, T, (int(cols*1.5), int(rows*1.5))) \n",
    "sheared_img = cv2.warpPerspective(img_translation, M, (int(cols*1.5), int(rows*1.5)))\n",
    "\n",
    "cv2.imshow('img', sheared_img)\n",
    "cv2.waitKey(0)\n",
    "cv2.destroyAllWindows()"
   ]
  },
  {
   "cell_type": "code",
   "execution_count": null,
   "id": "28e75cca-e6b3-4171-a39b-c4769ba56eb0",
   "metadata": {},
   "outputs": [],
   "source": []
  }
 ],
 "metadata": {
  "kernelspec": {
   "display_name": "Python 3 (ipykernel)",
   "language": "python",
   "name": "python3"
  },
  "language_info": {
   "codemirror_mode": {
    "name": "ipython",
    "version": 3
   },
   "file_extension": ".py",
   "mimetype": "text/x-python",
   "name": "python",
   "nbconvert_exporter": "python",
   "pygments_lexer": "ipython3",
   "version": "3.10.12"
  }
 },
 "nbformat": 4,
 "nbformat_minor": 5
}

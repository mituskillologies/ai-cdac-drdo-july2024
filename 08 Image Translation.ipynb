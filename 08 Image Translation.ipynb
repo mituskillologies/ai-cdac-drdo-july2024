{
 "cells": [
  {
   "cell_type": "code",
   "execution_count": 1,
   "id": "7822cb50-6abb-4024-86bc-f1c3ec148fe0",
   "metadata": {},
   "outputs": [],
   "source": [
    "import cv2\n",
    "import numpy as np\n",
    "import matplotlib.pyplot as plt"
   ]
  },
  {
   "cell_type": "code",
   "execution_count": 2,
   "id": "9d7f587a-d620-4e97-bf98-5fa410fe6772",
   "metadata": {},
   "outputs": [],
   "source": [
    "image = cv2.imread('images/lenna.png') \n",
    "  \n",
    "# Store height and width of the image \n",
    "height, width = image.shape[:2] \n",
    "  \n",
    "quarter_height, quarter_width = height / 4, width / 4\n",
    "  \n",
    "T = np.float32([[1, 0, quarter_width], [0, 1, quarter_height]]) \n",
    "  \n",
    "# We use warpAffine to transform the image using the matrix, T \n",
    "img_translation = cv2.warpAffine(image, T, (width, height)) "
   ]
  },
  {
   "cell_type": "code",
   "execution_count": 3,
   "id": "13ff763d-ceff-448d-9276-bc2567540a20",
   "metadata": {},
   "outputs": [
    {
     "data": {
      "text/plain": [
       "array([[  1.,   0., 128.],\n",
       "       [  0.,   1., 128.]], dtype=float32)"
      ]
     },
     "execution_count": 3,
     "metadata": {},
     "output_type": "execute_result"
    }
   ],
   "source": [
    "T"
   ]
  },
  {
   "cell_type": "code",
   "execution_count": 4,
   "id": "ebf20aac-60ec-40c6-a229-185269ccf14b",
   "metadata": {},
   "outputs": [
    {
     "name": "stderr",
     "output_type": "stream",
     "text": [
      "Warning: Ignoring XDG_SESSION_TYPE=wayland on Gnome. Use QT_QPA_PLATFORM=wayland to run on Wayland anyway.\n"
     ]
    }
   ],
   "source": [
    "cv2.imshow('Original Image', image)\n",
    "cv2.imshow('Translated Image', img_translation)\n",
    "cv2.waitKey(0)\n",
    "cv2.destroyAllWindows()"
   ]
  },
  {
   "cell_type": "code",
   "execution_count": 9,
   "id": "fcd4b13d-3da3-4ad1-978b-2538116be73c",
   "metadata": {},
   "outputs": [],
   "source": [
    "T = np.float32([[1, 0, 40], [0, 1, 100]]) \n",
    "img_translation = cv2.warpAffine(image, T, (width+100, height+100)) \n",
    "\n",
    "cv2.imshow('Original Image', image)\n",
    "cv2.imshow('Translated Image', img_translation)\n",
    "cv2.waitKey(0)\n",
    "cv2.destroyAllWindows()"
   ]
  },
  {
   "cell_type": "code",
   "execution_count": null,
   "id": "e73ddbb1-aa50-4890-a5ac-03051a579761",
   "metadata": {},
   "outputs": [],
   "source": []
  }
 ],
 "metadata": {
  "kernelspec": {
   "display_name": "Python 3 (ipykernel)",
   "language": "python",
   "name": "python3"
  },
  "language_info": {
   "codemirror_mode": {
    "name": "ipython",
    "version": 3
   },
   "file_extension": ".py",
   "mimetype": "text/x-python",
   "name": "python",
   "nbconvert_exporter": "python",
   "pygments_lexer": "ipython3",
   "version": "3.10.12"
  }
 },
 "nbformat": 4,
 "nbformat_minor": 5
}

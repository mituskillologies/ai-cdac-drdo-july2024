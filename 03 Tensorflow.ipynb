{
 "cells": [
  {
   "cell_type": "code",
   "execution_count": 5,
   "id": "6cf7e4a6-77d1-41b2-bf5e-987495d970f8",
   "metadata": {},
   "outputs": [],
   "source": [
    "import tensorflow as tf\n",
    "import numpy as np"
   ]
  },
  {
   "cell_type": "code",
   "execution_count": 4,
   "id": "0ef3ed8f-2be5-4c05-91e6-49c86729d8ce",
   "metadata": {},
   "outputs": [
    {
     "data": {
      "text/plain": [
       "<module 'tensorflow' from '/usr/local/lib/python3.10/dist-packages/tensorflow/__init__.py'>"
      ]
     },
     "execution_count": 4,
     "metadata": {},
     "output_type": "execute_result"
    }
   ],
   "source": [
    "tf"
   ]
  },
  {
   "cell_type": "code",
   "execution_count": 6,
   "id": "f8b8da30-d9f8-438e-adb2-6f4b50bb2e52",
   "metadata": {},
   "outputs": [
    {
     "name": "stdout",
     "output_type": "stream",
     "text": [
      "Tensor a: tf.Tensor([1 2 3], shape=(3,), dtype=int32)\n",
      "Tensor b: tf.Tensor([4 5 6], shape=(3,), dtype=int32)\n"
     ]
    }
   ],
   "source": [
    "# Create tensors\n",
    "a = tf.constant([1, 2, 3])\n",
    "b = tf.constant([4, 5, 6])\n",
    "\n",
    "print(\"Tensor a:\", a)\n",
    "print(\"Tensor b:\", b)"
   ]
  },
  {
   "cell_type": "code",
   "execution_count": 8,
   "id": "fb8b32fb-90d3-4f64-b324-8e7d9f3a523f",
   "metadata": {},
   "outputs": [
    {
     "data": {
      "text/plain": [
       "<tf.Tensor: shape=(), dtype=int32, numpy=1>"
      ]
     },
     "execution_count": 8,
     "metadata": {},
     "output_type": "execute_result"
    }
   ],
   "source": [
    "a[0]"
   ]
  },
  {
   "cell_type": "code",
   "execution_count": 11,
   "id": "304e6d1a-7030-4765-9ebf-6d6079013686",
   "metadata": {},
   "outputs": [
    {
     "name": "stdout",
     "output_type": "stream",
     "text": [
      "Tensor a: tf.Tensor(\n",
      "[[1 2 3]\n",
      " [7 8 9]], shape=(2, 3), dtype=int8)\n",
      "Tensor b: tf.Tensor(\n",
      "[[4 5]\n",
      " [6 2]], shape=(2, 2), dtype=int32)\n"
     ]
    }
   ],
   "source": [
    "# Create tensors\n",
    "x = tf.constant([[1, 2, 3],[7,8,9]], dtype=np.int8)\n",
    "y = tf.constant([[4, 5],[6,2]])\n",
    "\n",
    "print(\"Tensor a:\", x)\n",
    "print(\"Tensor b:\", y)"
   ]
  },
  {
   "cell_type": "code",
   "execution_count": 13,
   "id": "f2b5f0a0-2edd-4632-8924-4e888c42c56a",
   "metadata": {},
   "outputs": [
    {
     "name": "stdout",
     "output_type": "stream",
     "text": [
      "Tensor a: tf.Tensor(\n",
      "[[[1 2 3]\n",
      "  [7 8 9]]\n",
      "\n",
      " [[0 2 5]\n",
      "  [7 6 8]]], shape=(2, 2, 3), dtype=int8)\n",
      "Tensor b: tf.Tensor(\n",
      "[[4 5]\n",
      " [6 2]], shape=(2, 2), dtype=int32)\n"
     ]
    }
   ],
   "source": [
    "# Create tensors\n",
    "x = tf.constant([[[1, 2, 3],[7,8,9]],[[0, 2, 5],[7,6,8]]], dtype=np.int8)\n",
    "y = tf.constant([[4, 5],[6,2]])\n",
    "\n",
    "print(\"Tensor a:\", x)\n",
    "print(\"Tensor b:\", y)"
   ]
  },
  {
   "cell_type": "code",
   "execution_count": 14,
   "id": "1025452b-d32e-4111-bedb-da9bcf897f16",
   "metadata": {},
   "outputs": [
    {
     "name": "stdout",
     "output_type": "stream",
     "text": [
      "Addition: tf.Tensor([5 7 9], shape=(3,), dtype=int32)\n"
     ]
    }
   ],
   "source": [
    "# Add tensors\n",
    "c = tf.add(a, b)\n",
    "print(\"Addition:\", c)"
   ]
  },
  {
   "cell_type": "code",
   "execution_count": 15,
   "id": "31d5379c-e4b3-4314-9b6d-727be5414d25",
   "metadata": {},
   "outputs": [
    {
     "data": {
      "text/plain": [
       "<tf.Tensor: shape=(3,), dtype=int32, numpy=array([5, 7, 9], dtype=int32)>"
      ]
     },
     "execution_count": 15,
     "metadata": {},
     "output_type": "execute_result"
    }
   ],
   "source": [
    "a + b"
   ]
  },
  {
   "cell_type": "code",
   "execution_count": 16,
   "id": "de24a9f6-b278-4168-aa44-6f27b5c08114",
   "metadata": {},
   "outputs": [
    {
     "name": "stdout",
     "output_type": "stream",
     "text": [
      "Subtraction: tf.Tensor([-3 -3 -3], shape=(3,), dtype=int32)\n"
     ]
    }
   ],
   "source": [
    "# Subtract tensors\n",
    "d = tf.subtract(a, b)\n",
    "print(\"Subtraction:\", d)"
   ]
  },
  {
   "cell_type": "code",
   "execution_count": 17,
   "id": "5ed60f4b-baea-4187-a178-6075cb67909e",
   "metadata": {},
   "outputs": [
    {
     "data": {
      "text/plain": [
       "<tf.Tensor: shape=(3,), dtype=int32, numpy=array([-3, -3, -3], dtype=int32)>"
      ]
     },
     "execution_count": 17,
     "metadata": {},
     "output_type": "execute_result"
    }
   ],
   "source": [
    "a - b"
   ]
  },
  {
   "cell_type": "code",
   "execution_count": 18,
   "id": "bf68a54f-7fe3-4a01-8ad5-17b45f70321c",
   "metadata": {},
   "outputs": [
    {
     "data": {
      "text/plain": [
       "array([-3, -3, -3], dtype=int32)"
      ]
     },
     "execution_count": 18,
     "metadata": {},
     "output_type": "execute_result"
    }
   ],
   "source": [
    "d.numpy()"
   ]
  },
  {
   "cell_type": "code",
   "execution_count": 19,
   "id": "b5426f8b-b506-4000-b5cf-ae7b6ef1c3bf",
   "metadata": {},
   "outputs": [
    {
     "data": {
      "text/plain": [
       "array([1, 2, 3], dtype=int32)"
      ]
     },
     "execution_count": 19,
     "metadata": {},
     "output_type": "execute_result"
    }
   ],
   "source": [
    "a.numpy()"
   ]
  },
  {
   "cell_type": "code",
   "execution_count": 20,
   "id": "9f2c56c5-d92f-4579-8a3b-9ea45f083e82",
   "metadata": {},
   "outputs": [
    {
     "name": "stdout",
     "output_type": "stream",
     "text": [
      "Multiplication: tf.Tensor([ 4 10 18], shape=(3,), dtype=int32)\n"
     ]
    }
   ],
   "source": [
    "# Multiply tensors\n",
    "e = tf.multiply(a, b)\n",
    "print(\"Multiplication:\", e)"
   ]
  },
  {
   "cell_type": "code",
   "execution_count": 21,
   "id": "42f57e9a-ff3a-4816-ad0e-f9f9706ea49d",
   "metadata": {},
   "outputs": [
    {
     "data": {
      "text/plain": [
       "<tf.Tensor: shape=(3,), dtype=int32, numpy=array([ 4, 10, 18], dtype=int32)>"
      ]
     },
     "execution_count": 21,
     "metadata": {},
     "output_type": "execute_result"
    }
   ],
   "source": [
    "a * b"
   ]
  },
  {
   "cell_type": "code",
   "execution_count": 22,
   "id": "6e37c9f7-c7ea-406c-90c7-95003d025f89",
   "metadata": {},
   "outputs": [
    {
     "name": "stdout",
     "output_type": "stream",
     "text": [
      "Division: tf.Tensor([0.25 0.4  0.5 ], shape=(3,), dtype=float64)\n"
     ]
    }
   ],
   "source": [
    "# Divide tensors\n",
    "f = tf.divide(a, b)\n",
    "print(\"Division:\", f)"
   ]
  },
  {
   "cell_type": "code",
   "execution_count": 24,
   "id": "dbfa18b5-824a-43d8-9db5-81ad8ff8649a",
   "metadata": {},
   "outputs": [
    {
     "data": {
      "text/plain": [
       "<tf.Tensor: shape=(3,), dtype=float64, numpy=array([0.25, 0.4 , 0.5 ])>"
      ]
     },
     "execution_count": 24,
     "metadata": {},
     "output_type": "execute_result"
    }
   ],
   "source": [
    "a/b"
   ]
  },
  {
   "cell_type": "code",
   "execution_count": 25,
   "id": "4cd61463-a679-4f69-90f6-b0434a287b81",
   "metadata": {},
   "outputs": [
    {
     "data": {
      "text/plain": [
       "<tf.Tensor: shape=(3,), dtype=int32, numpy=array([0, 0, 0], dtype=int32)>"
      ]
     },
     "execution_count": 25,
     "metadata": {},
     "output_type": "execute_result"
    }
   ],
   "source": [
    "a//b"
   ]
  },
  {
   "cell_type": "code",
   "execution_count": 26,
   "id": "6b965280-85e6-4a99-813d-3f0fba5b3571",
   "metadata": {},
   "outputs": [
    {
     "data": {
      "text/plain": [
       "<tf.Tensor: shape=(3,), dtype=int32, numpy=array([4, 2, 2], dtype=int32)>"
      ]
     },
     "execution_count": 26,
     "metadata": {},
     "output_type": "execute_result"
    }
   ],
   "source": [
    "b//a"
   ]
  },
  {
   "cell_type": "code",
   "execution_count": 27,
   "id": "8510f98f-5e12-4be8-b991-6126fe13c93e",
   "metadata": {},
   "outputs": [
    {
     "data": {
      "text/plain": [
       "<tf.Tensor: shape=(3,), dtype=float64, numpy=array([4. , 2.5, 2. ])>"
      ]
     },
     "execution_count": 27,
     "metadata": {},
     "output_type": "execute_result"
    }
   ],
   "source": [
    "b/a"
   ]
  },
  {
   "cell_type": "code",
   "execution_count": 28,
   "id": "0d431cb5-5d68-4961-9a88-d101410d30d4",
   "metadata": {},
   "outputs": [
    {
     "name": "stdout",
     "output_type": "stream",
     "text": [
      "Matrix Multiplication: tf.Tensor(\n",
      "[[19 22]\n",
      " [43 50]], shape=(2, 2), dtype=int32)\n"
     ]
    }
   ],
   "source": [
    "# Matrix multiplication\n",
    "a_matrix = tf.constant([[1, 2], [3, 4]])\n",
    "b_matrix = tf.constant([[5, 6], [7, 8]])\n",
    "\n",
    "g = tf.matmul(a_matrix, b_matrix)\n",
    "print(\"Matrix Multiplication:\", g)"
   ]
  },
  {
   "cell_type": "code",
   "execution_count": null,
   "id": "56225e9f-460e-4605-8682-ac44eab197a1",
   "metadata": {},
   "outputs": [],
   "source": []
  },
  {
   "cell_type": "code",
   "execution_count": null,
   "id": "a9c5f9ba-5211-4c89-8525-1a0f76fec650",
   "metadata": {},
   "outputs": [],
   "source": []
  }
 ],
 "metadata": {
  "kernelspec": {
   "display_name": "Python 3 (ipykernel)",
   "language": "python",
   "name": "python3"
  },
  "language_info": {
   "codemirror_mode": {
    "name": "ipython",
    "version": 3
   },
   "file_extension": ".py",
   "mimetype": "text/x-python",
   "name": "python",
   "nbconvert_exporter": "python",
   "pygments_lexer": "ipython3",
   "version": "3.10.12"
  }
 },
 "nbformat": 4,
 "nbformat_minor": 5
}

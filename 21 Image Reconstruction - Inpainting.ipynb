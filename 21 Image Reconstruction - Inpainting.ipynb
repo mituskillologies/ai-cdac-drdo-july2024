{
 "cells": [
  {
   "cell_type": "code",
   "execution_count": 1,
   "id": "4d757a66-5010-4281-bf55-a5d2948f3656",
   "metadata": {},
   "outputs": [],
   "source": [
    "import numpy as np\n",
    "import matplotlib.pyplot as plt\n",
    "import cv2"
   ]
  },
  {
   "cell_type": "code",
   "execution_count": 2,
   "id": "f0d0a1c5-948c-4e65-8ca5-77793c5ad70a",
   "metadata": {},
   "outputs": [],
   "source": [
    "img = cv2.imread('images/cat_damaged.png')"
   ]
  },
  {
   "cell_type": "code",
   "execution_count": 4,
   "id": "cd322ccf-98b6-43ad-9403-1f51799b31a8",
   "metadata": {},
   "outputs": [],
   "source": [
    "cv2.imshow('Damaged Image', img)\n",
    "cv2.waitKey(0)\n",
    "cv2.destroyAllWindows()"
   ]
  },
  {
   "cell_type": "code",
   "execution_count": 5,
   "id": "e64773c8-9fa7-4026-9c10-c21d0a66043e",
   "metadata": {},
   "outputs": [],
   "source": [
    "height, width = img.shape[:2]"
   ]
  },
  {
   "cell_type": "code",
   "execution_count": 6,
   "id": "0aca1c37-b7b4-4815-8c73-31c6c4901e7e",
   "metadata": {},
   "outputs": [
    {
     "data": {
      "text/plain": [
       "(400, 400)"
      ]
     },
     "execution_count": 6,
     "metadata": {},
     "output_type": "execute_result"
    }
   ],
   "source": [
    "height, width"
   ]
  },
  {
   "cell_type": "code",
   "execution_count": 7,
   "id": "b43ae442-60f8-4207-ba4d-091ce0e82d7d",
   "metadata": {},
   "outputs": [],
   "source": [
    "mask = np.zeros([height, width, 3], dtype=np.uint8)"
   ]
  },
  {
   "cell_type": "code",
   "execution_count": 8,
   "id": "dbf0f8df-c1d4-49c3-b211-f6a9f9196e02",
   "metadata": {},
   "outputs": [],
   "source": [
    "cv2.imshow('Mask', mask)\n",
    "cv2.waitKey(0)\n",
    "cv2.destroyAllWindows()"
   ]
  },
  {
   "cell_type": "code",
   "execution_count": 9,
   "id": "76f00d69-f1a4-4362-94c4-52f1639eb17a",
   "metadata": {},
   "outputs": [],
   "source": [
    "# Converting all pixels greater than zero to black while black becomes white\n",
    "for i in range(height):\n",
    "    for j in range(width):\n",
    "        if img[i, j].sum() == 0:\n",
    "            mask[i, j] = [255, 255, 255]"
   ]
  },
  {
   "cell_type": "code",
   "execution_count": 10,
   "id": "428bec85-6706-41b8-bb8e-160008af956d",
   "metadata": {},
   "outputs": [],
   "source": [
    "cv2.imshow('Mask', mask)\n",
    "cv2.waitKey(0)\n",
    "cv2.destroyAllWindows()"
   ]
  },
  {
   "cell_type": "code",
   "execution_count": 11,
   "id": "6e9a4851-0231-4569-9c29-c3d9f8eef8e6",
   "metadata": {},
   "outputs": [],
   "source": [
    "mask = cv2.cvtColor(mask, cv2.COLOR_BGR2GRAY)"
   ]
  },
  {
   "cell_type": "code",
   "execution_count": 12,
   "id": "54030cc0-ca2c-468f-a648-30e72d68d124",
   "metadata": {},
   "outputs": [],
   "source": [
    "# Inpaint.\n",
    "dst = cv2.inpaint(img, mask, 3, cv2.INPAINT_NS)"
   ]
  },
  {
   "cell_type": "code",
   "execution_count": 13,
   "id": "84003305-5292-494e-bc14-541d1b5ecd4a",
   "metadata": {},
   "outputs": [],
   "source": [
    "cv2.imshow('Final Image', dst)\n",
    "cv2.waitKey(0)\n",
    "cv2.destroyAllWindows()"
   ]
  },
  {
   "cell_type": "code",
   "execution_count": null,
   "id": "4f0111ac-1d8d-454d-8623-1b9cd0e51e50",
   "metadata": {},
   "outputs": [],
   "source": []
  }
 ],
 "metadata": {
  "kernelspec": {
   "display_name": "Python 3 (ipykernel)",
   "language": "python",
   "name": "python3"
  },
  "language_info": {
   "codemirror_mode": {
    "name": "ipython",
    "version": 3
   },
   "file_extension": ".py",
   "mimetype": "text/x-python",
   "name": "python",
   "nbconvert_exporter": "python",
   "pygments_lexer": "ipython3",
   "version": "3.10.12"
  }
 },
 "nbformat": 4,
 "nbformat_minor": 5
}

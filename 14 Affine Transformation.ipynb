{
 "cells": [
  {
   "cell_type": "code",
   "execution_count": 1,
   "id": "966f0f97-2d51-4c87-a7bb-b7c840ce463f",
   "metadata": {},
   "outputs": [],
   "source": [
    "import cv2\n",
    "import matplotlib.pyplot as plt\n",
    "import numpy as np"
   ]
  },
  {
   "cell_type": "code",
   "execution_count": 5,
   "id": "ec7aede0-209c-4e73-8f84-546a1803de96",
   "metadata": {},
   "outputs": [],
   "source": [
    "img = cv2.imread('images/lenna.png')\n",
    "\n",
    "# Define transformation parameters\n",
    "tx = 50  # Translation along x-axis\n",
    "ty = 100  # Translation along y-axis\n",
    "angle = 45  # Rotation angle in degrees\n",
    "scale = 0.8  # Scaling factor\n",
    "shear_x = 0.3  # Shearing along x-axis\n",
    "shear_y = 0.2  # Shearing along y-axis\n",
    "\n",
    "# Create transformation matrix\n",
    "M = np.float32([[scale * np.cos(np.radians(angle)),   shear_x,    tx],\n",
    "                [shear_y,   scale * np.sin(np.radians(angle)),    ty]])\n",
    "\n",
    "# Apply transformation using warpAffine\n",
    "img_affine = cv2.warpAffine(img, M, (512, 512))\n",
    "\n",
    "# Display original and affine transformed images\n",
    "final_img = np.hstack([img, img_affine])\n",
    "cv2.imshow('Affine Transformed Image', final_img)\n",
    "cv2.waitKey(0)\n",
    "cv2.destroyAllWindows()"
   ]
  },
  {
   "cell_type": "code",
   "execution_count": null,
   "id": "75ea2817-86a5-4880-b0b3-d0779443ea5a",
   "metadata": {},
   "outputs": [],
   "source": []
  }
 ],
 "metadata": {
  "kernelspec": {
   "display_name": "Python 3 (ipykernel)",
   "language": "python",
   "name": "python3"
  },
  "language_info": {
   "codemirror_mode": {
    "name": "ipython",
    "version": 3
   },
   "file_extension": ".py",
   "mimetype": "text/x-python",
   "name": "python",
   "nbconvert_exporter": "python",
   "pygments_lexer": "ipython3",
   "version": "3.10.12"
  }
 },
 "nbformat": 4,
 "nbformat_minor": 5
}

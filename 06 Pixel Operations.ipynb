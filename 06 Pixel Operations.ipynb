{
 "cells": [
  {
   "cell_type": "code",
   "execution_count": 1,
   "id": "7e8ebda7-c911-4e60-97cb-0405e07dd990",
   "metadata": {},
   "outputs": [],
   "source": [
    "import cv2\n",
    "import matplotlib.pyplot as plt"
   ]
  },
  {
   "cell_type": "code",
   "execution_count": 10,
   "id": "cd40d69d-fafe-45ec-86aa-c7484e69414f",
   "metadata": {},
   "outputs": [],
   "source": [
    "img = cv2.imread('images/lenna.png')"
   ]
  },
  {
   "cell_type": "code",
   "execution_count": 3,
   "id": "6f018c65-849a-46b7-b342-ca0e23bf9a0a",
   "metadata": {},
   "outputs": [
    {
     "data": {
      "text/plain": [
       "(512, 512, 3)"
      ]
     },
     "execution_count": 3,
     "metadata": {},
     "output_type": "execute_result"
    }
   ],
   "source": [
    "img.shape"
   ]
  },
  {
   "cell_type": "code",
   "execution_count": 18,
   "id": "d09b745b-2063-45aa-9c3e-45eb6297b9b7",
   "metadata": {},
   "outputs": [],
   "source": [
    "pix = img[300, 200]"
   ]
  },
  {
   "cell_type": "code",
   "execution_count": 19,
   "id": "1ed6fc40-c741-4145-903d-d57f4e603061",
   "metadata": {},
   "outputs": [
    {
     "data": {
      "text/plain": [
       "array([[[ 91,  85, 182]]], dtype=uint8)"
      ]
     },
     "execution_count": 19,
     "metadata": {},
     "output_type": "execute_result"
    }
   ],
   "source": [
    "pix = pix.reshape(1,1,3)\n",
    "pix"
   ]
  },
  {
   "cell_type": "code",
   "execution_count": 20,
   "id": "e3561242-fe9b-460b-95ad-51b0d752fc10",
   "metadata": {},
   "outputs": [
    {
     "data": {
      "text/plain": [
       "<matplotlib.image.AxesImage at 0x7482b1014ca0>"
      ]
     },
     "execution_count": 20,
     "metadata": {},
     "output_type": "execute_result"
    },
    {
     "data": {
      "image/png": "[encoded data removed]",
      "text/plain": [
       "<Figure size 640x480 with 1 Axes>"
      ]
     },
     "metadata": {},
     "output_type": "display_data"
    }
   ],
   "source": [
    "plt.imshow(pix)"
   ]
  },
  {
   "cell_type": "code",
   "execution_count": 21,
   "id": "1871e67a-9117-44fd-bd9b-8e8114142dd3",
   "metadata": {},
   "outputs": [
    {
     "name": "stderr",
     "output_type": "stream",
     "text": [
      "Warning: Ignoring XDG_SESSION_TYPE=wayland on Gnome. Use QT_QPA_PLATFORM=wayland to run on Wayland anyway.\n"
     ]
    }
   ],
   "source": [
    "cv2.imshow('Image', img)\n",
    "cv2.waitKey(0)\n",
    "cv2.destroyAllWindows()"
   ]
  },
  {
   "cell_type": "code",
   "execution_count": 22,
   "id": "09c7a55e-1482-47cb-aabf-83321e7bf093",
   "metadata": {},
   "outputs": [],
   "source": [
    "for i in range(512):\n",
    "    img[i,i] = 0"
   ]
  },
  {
   "cell_type": "code",
   "execution_count": 23,
   "id": "ac99833c-bd8b-431e-b966-85899207363e",
   "metadata": {},
   "outputs": [],
   "source": [
    "cv2.imshow('Image', img)\n",
    "cv2.waitKey(0)\n",
    "cv2.destroyAllWindows()"
   ]
  },
  {
   "cell_type": "code",
   "execution_count": 24,
   "id": "11617e57-3eca-422c-abf9-2f1c90e8c24d",
   "metadata": {},
   "outputs": [],
   "source": [
    "img[100:300, 100:300] = 0"
   ]
  },
  {
   "cell_type": "code",
   "execution_count": 25,
   "id": "1b7e0dae-0f4b-4fc4-a293-a62f0360746b",
   "metadata": {},
   "outputs": [],
   "source": [
    "cv2.imshow('Image', img)\n",
    "cv2.waitKey(0)\n",
    "cv2.destroyAllWindows()"
   ]
  },
  {
   "cell_type": "code",
   "execution_count": 30,
   "id": "33d63959-fd25-4068-98ec-a2bffa347575",
   "metadata": {},
   "outputs": [],
   "source": [
    "img = cv2.imread('images/lenna.png')"
   ]
  },
  {
   "cell_type": "code",
   "execution_count": 31,
   "id": "8531fc04-60af-45b6-98d6-d01a25b8790a",
   "metadata": {},
   "outputs": [],
   "source": [
    "for i in range(0,512,2):\n",
    "    for j in range(512):\n",
    "        img[i, j] = 0"
   ]
  },
  {
   "cell_type": "code",
   "execution_count": 32,
   "id": "d4ede11a-ba25-4c07-8367-6e68bd9a4d4c",
   "metadata": {},
   "outputs": [],
   "source": [
    "cv2.imshow('Image', img)\n",
    "cv2.waitKey(0)\n",
    "cv2.destroyAllWindows()"
   ]
  },
  {
   "cell_type": "code",
   "execution_count": null,
   "id": "12e443bf-f5b1-4f41-8f6b-ca6f79ced292",
   "metadata": {},
   "outputs": [],
   "source": []
  }
 ],
 "metadata": {
  "kernelspec": {
   "display_name": "Python 3 (ipykernel)",
   "language": "python",
   "name": "python3"
  },
  "language_info": {
   "codemirror_mode": {
    "name": "ipython",
    "version": 3
   },
   "file_extension": ".py",
   "mimetype": "text/x-python",
   "name": "python",
   "nbconvert_exporter": "python",
   "pygments_lexer": "ipython3",
   "version": "3.10.12"
  }
 },
 "nbformat": 4,
 "nbformat_minor": 5
}

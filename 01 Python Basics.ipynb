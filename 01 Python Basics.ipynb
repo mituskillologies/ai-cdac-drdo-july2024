{
 "cells": [
  {
   "cell_type": "code",
   "execution_count": 1,
   "id": "5a930f39-0226-4ed3-bc42-4673d223fed4",
   "metadata": {},
   "outputs": [
    {
     "name": "stdout",
     "output_type": "stream",
     "text": [
      "Hello World\n"
     ]
    }
   ],
   "source": [
    "print('Hello World')"
   ]
  },
  {
   "cell_type": "markdown",
   "id": "4679a022-aa4d-498f-8fd7-56619e4c2ca7",
   "metadata": {},
   "source": [
    "##### Simple Python Program"
   ]
  },
  {
   "cell_type": "code",
   "execution_count": 2,
   "id": "4b7f9386-794b-4b0b-9d11-0c921870f95d",
   "metadata": {},
   "outputs": [
    {
     "name": "stdin",
     "output_type": "stream",
     "text": [
      "Enter the temperature:  36\n"
     ]
    },
    {
     "name": "stdout",
     "output_type": "stream",
     "text": [
      "Farenhite Temperature: 96.8\n"
     ]
    }
   ],
   "source": [
    "cent = int(input('Enter the temperature: '))\n",
    "far = cent * 1.8 + 32\n",
    "print('Farenhite Temperature:', far)"
   ]
  },
  {
   "cell_type": "code",
   "execution_count": 3,
   "id": "bf8939f6-49a1-4319-8e90-a9d7f02a2fbf",
   "metadata": {},
   "outputs": [
    {
     "data": {
      "text/plain": [
       "int"
      ]
     },
     "execution_count": 3,
     "metadata": {},
     "output_type": "execute_result"
    }
   ],
   "source": [
    "type(cent)"
   ]
  },
  {
   "cell_type": "markdown",
   "id": "c731b3af-0648-4d7c-9200-731ec3ec3a8b",
   "metadata": {},
   "source": [
    "##### Decision Making Statements"
   ]
  },
  {
   "cell_type": "code",
   "execution_count": 6,
   "id": "0c3991e1-3948-4526-9fb7-eab9779c6b0e",
   "metadata": {},
   "outputs": [
    {
     "name": "stdin",
     "output_type": "stream",
     "text": [
      "Enter the number:  67\n"
     ]
    },
    {
     "name": "stdout",
     "output_type": "stream",
     "text": [
      "Number is Positive!\n"
     ]
    }
   ],
   "source": [
    "num = int(input('Enter the number: '))\n",
    "if num > 0:\n",
    "    print('Number is Positive!')\n",
    "else:\n",
    "    print('Number is Negative!')"
   ]
  },
  {
   "cell_type": "code",
   "execution_count": 10,
   "id": "46d87e80-3a01-4b35-b0f4-251301dcc853",
   "metadata": {},
   "outputs": [
    {
     "name": "stdin",
     "output_type": "stream",
     "text": [
      "Enter the number:  90\n"
     ]
    },
    {
     "name": "stdout",
     "output_type": "stream",
     "text": [
      "Number is Positive!\n",
      "Good Bye\n"
     ]
    }
   ],
   "source": [
    "num = int(input('Enter the number: '))\n",
    "if num > 0:\n",
    "    print('Number is Positive!')\n",
    "    print('Good Bye')\n",
    "elif num == 0:\n",
    "    print('Number is ZERO.')\n",
    "else:\n",
    "    print('Number is Negative!')"
   ]
  },
  {
   "cell_type": "markdown",
   "id": "df07c3e4-37a4-4a08-81a7-70e0ebe133ab",
   "metadata": {},
   "source": [
    "##### Looping"
   ]
  },
  {
   "cell_type": "code",
   "execution_count": 12,
   "id": "f0edf4b4-8731-455e-b58e-baf7d93221cd",
   "metadata": {},
   "outputs": [
    {
     "name": "stdout",
     "output_type": "stream",
     "text": [
      "Tushar\n",
      "Tushar\n",
      "Tushar\n",
      "Tushar\n",
      "Tushar\n",
      "Tushar\n",
      "Tushar\n",
      "Tushar\n",
      "Tushar\n",
      "Tushar\n"
     ]
    }
   ],
   "source": [
    "count = 0\n",
    "while count < 10:\n",
    "    print('Tushar')\n",
    "    count = count + 1"
   ]
  },
  {
   "cell_type": "code",
   "execution_count": 13,
   "id": "26b41790-7b17-4791-9bee-9b2393762f88",
   "metadata": {},
   "outputs": [
    {
     "name": "stdout",
     "output_type": "stream",
     "text": [
      "67\n",
      "23\n",
      "16\n",
      "33\n",
      "27\n"
     ]
    }
   ],
   "source": [
    "for i in 67,23,16,33,27:\n",
    "    print(i)"
   ]
  },
  {
   "cell_type": "code",
   "execution_count": 14,
   "id": "e97415eb-4712-4035-b062-2bb28c89d27e",
   "metadata": {},
   "outputs": [
    {
     "name": "stdout",
     "output_type": "stream",
     "text": [
      "PPPPPPPPPP\n",
      "uuuuuuuuuu\n",
      "nnnnnnnnnn\n",
      "eeeeeeeeee\n"
     ]
    }
   ],
   "source": [
    "for i in 'Pune':\n",
    "    print(i * 10)"
   ]
  },
  {
   "cell_type": "code",
   "execution_count": 15,
   "id": "225a3405-deff-44ff-8dd7-2fe6065bfff8",
   "metadata": {},
   "outputs": [
    {
     "name": "stdout",
     "output_type": "stream",
     "text": [
      "0\n",
      "1\n",
      "4\n",
      "9\n",
      "16\n",
      "25\n",
      "36\n",
      "49\n",
      "64\n",
      "81\n"
     ]
    }
   ],
   "source": [
    "for x in range(10):\n",
    "    print(x * x)"
   ]
  },
  {
   "cell_type": "code",
   "execution_count": 16,
   "id": "aff5c9a6-c68a-4f99-9c87-3f543f0ae09a",
   "metadata": {},
   "outputs": [
    {
     "name": "stdout",
     "output_type": "stream",
     "text": [
      "0\n",
      "1\n",
      "4\n",
      "9\n",
      "16\n",
      "36\n",
      "49\n",
      "64\n",
      "81\n"
     ]
    }
   ],
   "source": [
    "for x in range(10):\n",
    "    if x == 5:\n",
    "        continue\n",
    "    print(x * x)"
   ]
  },
  {
   "cell_type": "markdown",
   "id": "e2587e70-1097-43a3-95e6-ca24767824d2",
   "metadata": {},
   "source": [
    "###### Function"
   ]
  },
  {
   "cell_type": "code",
   "execution_count": 18,
   "id": "63c7cac4-38c9-44d0-bca8-c671b1098d75",
   "metadata": {},
   "outputs": [],
   "source": [
    "def square(num):\n",
    "    sq = num * num\n",
    "    return sq"
   ]
  },
  {
   "cell_type": "code",
   "execution_count": 19,
   "id": "83027779-8e8d-424b-af0d-b14d160160bd",
   "metadata": {},
   "outputs": [
    {
     "name": "stdout",
     "output_type": "stream",
     "text": [
      "Square is: 25\n"
     ]
    }
   ],
   "source": [
    "print('Square is:', square(5))"
   ]
  },
  {
   "cell_type": "code",
   "execution_count": 20,
   "id": "ac9e7938-b9ab-4f05-8f93-3776a5804f88",
   "metadata": {},
   "outputs": [],
   "source": [
    "def square(num=10):\n",
    "    sq = num * num\n",
    "    return sq"
   ]
  },
  {
   "cell_type": "code",
   "execution_count": 21,
   "id": "2c3a12a8-fcd9-4363-9cf9-7a557ce7266c",
   "metadata": {},
   "outputs": [
    {
     "data": {
      "text/plain": [
       "16"
      ]
     },
     "execution_count": 21,
     "metadata": {},
     "output_type": "execute_result"
    }
   ],
   "source": [
    "square(4)"
   ]
  },
  {
   "cell_type": "code",
   "execution_count": 22,
   "id": "cf7e5617-9e4f-4afd-8cc4-5034ef5114fc",
   "metadata": {},
   "outputs": [
    {
     "data": {
      "text/plain": [
       "100"
      ]
     },
     "execution_count": 22,
     "metadata": {},
     "output_type": "execute_result"
    }
   ],
   "source": [
    "square()"
   ]
  },
  {
   "cell_type": "code",
   "execution_count": 25,
   "id": "de9d7638-2524-4e3a-9731-5f59356808c0",
   "metadata": {},
   "outputs": [],
   "source": [
    "def calc(num):\n",
    "    sq = num * num\n",
    "    cu = num ** 3\n",
    "    return sq, cu"
   ]
  },
  {
   "cell_type": "code",
   "execution_count": 26,
   "id": "b63d06c3-9f3b-459f-aa4c-a04534f08e24",
   "metadata": {},
   "outputs": [
    {
     "data": {
      "text/plain": [
       "(9, 27)"
      ]
     },
     "execution_count": 26,
     "metadata": {},
     "output_type": "execute_result"
    }
   ],
   "source": [
    "calc(3)"
   ]
  },
  {
   "cell_type": "markdown",
   "id": "f7bca181-26ec-4b4f-ad70-6ceb5112028b",
   "metadata": {},
   "source": [
    "###### Data Structures"
   ]
  },
  {
   "cell_type": "code",
   "execution_count": 29,
   "id": "2a4e4a01-58d9-49cf-9a55-23f1020704dc",
   "metadata": {},
   "outputs": [],
   "source": [
    "num1 = [45,67,11,23,68,90]"
   ]
  },
  {
   "cell_type": "code",
   "execution_count": 30,
   "id": "642b9bf9-b6ca-4401-999e-e77cffa0f328",
   "metadata": {},
   "outputs": [
    {
     "data": {
      "text/plain": [
       "list"
      ]
     },
     "execution_count": 30,
     "metadata": {},
     "output_type": "execute_result"
    }
   ],
   "source": [
    "type(num1)"
   ]
  },
  {
   "cell_type": "code",
   "execution_count": 31,
   "id": "16759967-8a33-4912-8b1b-545c3dfb76fb",
   "metadata": {},
   "outputs": [
    {
     "data": {
      "text/plain": [
       "90"
      ]
     },
     "execution_count": 31,
     "metadata": {},
     "output_type": "execute_result"
    }
   ],
   "source": [
    "num1[5]"
   ]
  },
  {
   "cell_type": "code",
   "execution_count": 33,
   "id": "02db560c-1dc4-4c4b-aedd-a5440ecb28bf",
   "metadata": {},
   "outputs": [],
   "source": [
    "num2 = (45,67,11,23,68,90)"
   ]
  },
  {
   "cell_type": "code",
   "execution_count": 34,
   "id": "3d7a7603-577e-4d24-9c25-91f1f888fa37",
   "metadata": {},
   "outputs": [
    {
     "data": {
      "text/plain": [
       "tuple"
      ]
     },
     "execution_count": 34,
     "metadata": {},
     "output_type": "execute_result"
    }
   ],
   "source": [
    "type(num2)"
   ]
  },
  {
   "cell_type": "code",
   "execution_count": 35,
   "id": "1e613ef0-88d4-4a31-b8ae-1c6eb4d6ac2f",
   "metadata": {},
   "outputs": [],
   "source": [
    "num1[2] = 56"
   ]
  },
  {
   "cell_type": "code",
   "execution_count": 36,
   "id": "decef87c-f934-486d-beb6-3e5e62e56728",
   "metadata": {},
   "outputs": [
    {
     "ename": "TypeError",
     "evalue": "'tuple' object does not support item assignment",
     "output_type": "error",
     "traceback": [
      "\u001b[0;31m---------------------------------------------------------------------------\u001b[0m",
      "\u001b[0;31mTypeError\u001b[0m                                 Traceback (most recent call last)",
      "Cell \u001b[0;32mIn[36], line 1\u001b[0m\n\u001b[0;32m----> 1\u001b[0m \u001b[43mnum2\u001b[49m\u001b[43m[\u001b[49m\u001b[38;5;241;43m2\u001b[39;49m\u001b[43m]\u001b[49m \u001b[38;5;241m=\u001b[39m \u001b[38;5;241m56\u001b[39m\n",
      "\u001b[0;31mTypeError\u001b[0m: 'tuple' object does not support item assignment"
     ]
    }
   ],
   "source": [
    "num2[2] = 56"
   ]
  },
  {
   "cell_type": "code",
   "execution_count": 37,
   "id": "650ebb0a-a174-49ae-a5f1-3fd1eb953ce7",
   "metadata": {},
   "outputs": [],
   "source": [
    "num3= {45,67,11,23,68,90}"
   ]
  },
  {
   "cell_type": "code",
   "execution_count": 38,
   "id": "6c8e4a69-7712-4cd0-8eb5-070390a9304e",
   "metadata": {},
   "outputs": [
    {
     "data": {
      "text/plain": [
       "set"
      ]
     },
     "execution_count": 38,
     "metadata": {},
     "output_type": "execute_result"
    }
   ],
   "source": [
    "type(num3)"
   ]
  },
  {
   "cell_type": "code",
   "execution_count": 39,
   "id": "725a50cb-9244-4de5-a57f-5c62d47ed55d",
   "metadata": {},
   "outputs": [],
   "source": [
    "num3= {45,67,11,23,67,90}"
   ]
  },
  {
   "cell_type": "code",
   "execution_count": 40,
   "id": "581e41b9-b20f-468b-a5ac-b1598643f7d2",
   "metadata": {},
   "outputs": [
    {
     "data": {
      "text/plain": [
       "{11, 23, 45, 67, 90}"
      ]
     },
     "execution_count": 40,
     "metadata": {},
     "output_type": "execute_result"
    }
   ],
   "source": [
    "num3"
   ]
  },
  {
   "cell_type": "code",
   "execution_count": 41,
   "id": "bc56ebba-a699-4304-b653-b6c51866465c",
   "metadata": {},
   "outputs": [],
   "source": [
    "num4 = {2:45, 5:67, 10:11, 12:23, 16:68, 'x':90}"
   ]
  },
  {
   "cell_type": "code",
   "execution_count": 42,
   "id": "3cf4098d-41aa-4d1f-a961-c60cedac6d5e",
   "metadata": {},
   "outputs": [
    {
     "data": {
      "text/plain": [
       "dict"
      ]
     },
     "execution_count": 42,
     "metadata": {},
     "output_type": "execute_result"
    }
   ],
   "source": [
    "type(num4)"
   ]
  },
  {
   "cell_type": "code",
   "execution_count": 43,
   "id": "3f0db19a-0909-4412-b8be-d47408117531",
   "metadata": {},
   "outputs": [
    {
     "data": {
      "text/plain": [
       "23"
      ]
     },
     "execution_count": 43,
     "metadata": {},
     "output_type": "execute_result"
    }
   ],
   "source": [
    "num4[12]"
   ]
  },
  {
   "cell_type": "code",
   "execution_count": 44,
   "id": "def719cc-d583-4491-8175-98f853853356",
   "metadata": {},
   "outputs": [
    {
     "data": {
      "text/plain": [
       "90"
      ]
     },
     "execution_count": 44,
     "metadata": {},
     "output_type": "execute_result"
    }
   ],
   "source": [
    "num4['x']"
   ]
  },
  {
   "cell_type": "markdown",
   "id": "98b71be2-836d-4da5-8c60-59b3b422dce0",
   "metadata": {},
   "source": [
    "###### class"
   ]
  },
  {
   "cell_type": "code",
   "execution_count": 46,
   "id": "e739bd24-3fd9-4ca0-8811-606cb27e8245",
   "metadata": {},
   "outputs": [],
   "source": [
    "num1.reverse()"
   ]
  },
  {
   "cell_type": "code",
   "execution_count": 47,
   "id": "a7b6fad3-a35f-4eaa-bdf7-2a2f87c49b8b",
   "metadata": {},
   "outputs": [
    {
     "data": {
      "text/plain": [
       "[90, 68, 23, 56, 67, 45]"
      ]
     },
     "execution_count": 47,
     "metadata": {},
     "output_type": "execute_result"
    }
   ],
   "source": [
    "num1"
   ]
  },
  {
   "cell_type": "code",
   "execution_count": 48,
   "id": "b42a79f3-e7b1-403d-b008-6acb8938c0ed",
   "metadata": {},
   "outputs": [
    {
     "data": {
      "text/plain": [
       "1"
      ]
     },
     "execution_count": 48,
     "metadata": {},
     "output_type": "execute_result"
    }
   ],
   "source": [
    "num2.count(23)"
   ]
  },
  {
   "cell_type": "code",
   "execution_count": 49,
   "id": "abb60195-b23d-4447-bf7f-9b0d61331bf8",
   "metadata": {},
   "outputs": [],
   "source": [
    "num3.add(18)"
   ]
  },
  {
   "cell_type": "code",
   "execution_count": 50,
   "id": "676dfb90-bf7e-4d63-8306-a027879ccd86",
   "metadata": {},
   "outputs": [
    {
     "data": {
      "text/plain": [
       "{11, 18, 23, 45, 67, 90}"
      ]
     },
     "execution_count": 50,
     "metadata": {},
     "output_type": "execute_result"
    }
   ],
   "source": [
    "num3"
   ]
  },
  {
   "cell_type": "code",
   "execution_count": 51,
   "id": "3db534ba-558f-46c4-9971-8d866657cc92",
   "metadata": {},
   "outputs": [
    {
     "data": {
      "text/plain": [
       "dict_keys([2, 5, 10, 12, 16, 'x'])"
      ]
     },
     "execution_count": 51,
     "metadata": {},
     "output_type": "execute_result"
    }
   ],
   "source": [
    "num4.keys()"
   ]
  },
  {
   "cell_type": "code",
   "execution_count": 52,
   "id": "c7ee73f3-e279-4633-a199-e7a47a961de8",
   "metadata": {},
   "outputs": [],
   "source": [
    "name = 'Tushar'"
   ]
  },
  {
   "cell_type": "code",
   "execution_count": 53,
   "id": "11672423-2550-4d6b-a1bd-7d9a56829f44",
   "metadata": {},
   "outputs": [
    {
     "data": {
      "text/plain": [
       "'TUSHAR'"
      ]
     },
     "execution_count": 53,
     "metadata": {},
     "output_type": "execute_result"
    }
   ],
   "source": [
    "name.upper()"
   ]
  },
  {
   "cell_type": "code",
   "execution_count": 54,
   "id": "dcade64d-3db3-4875-9144-5f49d5e1ea31",
   "metadata": {},
   "outputs": [],
   "source": [
    "class Person:\n",
    "    def __init__(self, n, a):\n",
    "        self.name = n\n",
    "        self.age = a\n",
    "    def show(self):\n",
    "        print('Values are:')\n",
    "        print(self.name, self.age)"
   ]
  },
  {
   "cell_type": "code",
   "execution_count": 55,
   "id": "b2662e81-8e84-47aa-bade-8237a59b0e0f",
   "metadata": {},
   "outputs": [],
   "source": [
    "p1 = Person('ajay', 34)"
   ]
  },
  {
   "cell_type": "code",
   "execution_count": 56,
   "id": "507e9e80-532c-45af-8bfe-e5ae42233a58",
   "metadata": {},
   "outputs": [
    {
     "data": {
      "text/plain": [
       "'ajay'"
      ]
     },
     "execution_count": 56,
     "metadata": {},
     "output_type": "execute_result"
    }
   ],
   "source": [
    "p1.name"
   ]
  },
  {
   "cell_type": "code",
   "execution_count": 57,
   "id": "79b216df-76eb-4402-87e8-795c29a8935c",
   "metadata": {},
   "outputs": [
    {
     "data": {
      "text/plain": [
       "34"
      ]
     },
     "execution_count": 57,
     "metadata": {},
     "output_type": "execute_result"
    }
   ],
   "source": [
    "p1.age"
   ]
  },
  {
   "cell_type": "code",
   "execution_count": 58,
   "id": "fd6d07c7-1892-4dbb-ad84-0279b88d5179",
   "metadata": {},
   "outputs": [
    {
     "name": "stdout",
     "output_type": "stream",
     "text": [
      "Values are:\n",
      "ajay 34\n"
     ]
    }
   ],
   "source": [
    "p1.show()"
   ]
  },
  {
   "cell_type": "code",
   "execution_count": 59,
   "id": "1193f8d1-9ae7-4b0e-9374-62acb1dd27ec",
   "metadata": {},
   "outputs": [
    {
     "name": "stdout",
     "output_type": "stream",
     "text": [
      "Values are:\n",
      "Vijay 21\n"
     ]
    }
   ],
   "source": [
    "p2 = Person('Vijay', 21)\n",
    "p2.show()"
   ]
  },
  {
   "cell_type": "code",
   "execution_count": 60,
   "id": "68d6eb93-c211-4bb5-9505-74d7f8b33942",
   "metadata": {},
   "outputs": [
    {
     "name": "stdout",
     "output_type": "stream",
     "text": [
      "Values are:\n",
      "Riya 25\n"
     ]
    }
   ],
   "source": [
    "p3 = Person('Riya', 25)\n",
    "p3.show()"
   ]
  },
  {
   "cell_type": "markdown",
   "id": "4b08e157-8a1b-4fe5-926e-c665228f7133",
   "metadata": {},
   "source": [
    "##### Using the libraries"
   ]
  },
  {
   "cell_type": "code",
   "execution_count": 62,
   "id": "319bc29d-c052-479b-9dec-d029411e50ff",
   "metadata": {},
   "outputs": [],
   "source": [
    "import math"
   ]
  },
  {
   "cell_type": "code",
   "execution_count": null,
   "id": "2c2946b1-f3e9-4aef-807f-122242404b24",
   "metadata": {},
   "outputs": [],
   "source": [
    "help(math)"
   ]
  },
  {
   "cell_type": "code",
   "execution_count": 63,
   "id": "6359bf95-b414-4c65-a79a-d5c4621f7925",
   "metadata": {},
   "outputs": [
    {
     "data": {
      "text/plain": [
       "4.795831523312719"
      ]
     },
     "execution_count": 63,
     "metadata": {},
     "output_type": "execute_result"
    }
   ],
   "source": [
    "math.sqrt(23)"
   ]
  },
  {
   "cell_type": "code",
   "execution_count": 64,
   "id": "5f066383-e01d-4b40-a3fd-50451f90a24c",
   "metadata": {},
   "outputs": [
    {
     "data": {
      "text/plain": [
       "2.4849066497880004"
      ]
     },
     "execution_count": 64,
     "metadata": {},
     "output_type": "execute_result"
    }
   ],
   "source": [
    "math.log(12)"
   ]
  },
  {
   "cell_type": "code",
   "execution_count": 65,
   "id": "f7f90535-dfca-4ae4-8de4-c0fb4fd109ed",
   "metadata": {},
   "outputs": [
    {
     "data": {
      "text/plain": [
       "-0.5440211108893698"
      ]
     },
     "execution_count": 65,
     "metadata": {},
     "output_type": "execute_result"
    }
   ],
   "source": [
    "math.sin(10)"
   ]
  },
  {
   "cell_type": "code",
   "execution_count": 67,
   "id": "116d7c08-a1fe-45ab-b4eb-90b51848b68d",
   "metadata": {},
   "outputs": [
    {
     "data": {
      "text/plain": [
       "120"
      ]
     },
     "execution_count": 67,
     "metadata": {},
     "output_type": "execute_result"
    }
   ],
   "source": [
    "math.factorial(5)"
   ]
  },
  {
   "cell_type": "code",
   "execution_count": 68,
   "id": "ea6eb86c-abaf-4dad-8f35-131348e4d3da",
   "metadata": {},
   "outputs": [
    {
     "data": {
      "text/plain": [
       "3.141592653589793"
      ]
     },
     "execution_count": 68,
     "metadata": {},
     "output_type": "execute_result"
    }
   ],
   "source": [
    "math.pi"
   ]
  },
  {
   "cell_type": "code",
   "execution_count": 69,
   "id": "8270b580-4556-4394-adbb-3843c9ff194b",
   "metadata": {},
   "outputs": [],
   "source": [
    "import math as m"
   ]
  },
  {
   "cell_type": "code",
   "execution_count": 71,
   "id": "79144618-d120-4b28-a5b0-ddb1b6b00012",
   "metadata": {},
   "outputs": [
    {
     "data": {
      "text/plain": [
       "4.795831523312719"
      ]
     },
     "execution_count": 71,
     "metadata": {},
     "output_type": "execute_result"
    }
   ],
   "source": [
    "m.sqrt(23)"
   ]
  },
  {
   "cell_type": "code",
   "execution_count": 72,
   "id": "75435364-98b4-46b8-8182-738c271bd12a",
   "metadata": {},
   "outputs": [
    {
     "data": {
      "text/plain": [
       "2.718281828459045"
      ]
     },
     "execution_count": 72,
     "metadata": {},
     "output_type": "execute_result"
    }
   ],
   "source": [
    "m.e"
   ]
  },
  {
   "cell_type": "code",
   "execution_count": 73,
   "id": "551ce2f8-169b-44ce-8cc2-08007fc48dab",
   "metadata": {},
   "outputs": [
    {
     "data": {
      "text/plain": [
       "3.141592653589793"
      ]
     },
     "execution_count": 73,
     "metadata": {},
     "output_type": "execute_result"
    }
   ],
   "source": [
    "m.pi"
   ]
  },
  {
   "cell_type": "code",
   "execution_count": 74,
   "id": "d4e74dee-99aa-40a8-b874-7cdb7c8a0aa4",
   "metadata": {},
   "outputs": [
    {
     "data": {
      "text/plain": [
       "1.0791812460476249"
      ]
     },
     "execution_count": 74,
     "metadata": {},
     "output_type": "execute_result"
    }
   ],
   "source": [
    "m.log10(12)"
   ]
  },
  {
   "cell_type": "code",
   "execution_count": 75,
   "id": "139c240d-efab-46bb-8a2f-345d6ca04e0b",
   "metadata": {},
   "outputs": [],
   "source": [
    "from math import sqrt, pi"
   ]
  },
  {
   "cell_type": "code",
   "execution_count": 77,
   "id": "5d0d25de-f7ae-4ef3-803e-3b2ea44e02f9",
   "metadata": {},
   "outputs": [
    {
     "data": {
      "text/plain": [
       "3.4641016151377544"
      ]
     },
     "execution_count": 77,
     "metadata": {},
     "output_type": "execute_result"
    }
   ],
   "source": [
    "sqrt(12)"
   ]
  },
  {
   "cell_type": "code",
   "execution_count": 78,
   "id": "4fd05527-ba30-4488-b36e-36d6f80197fd",
   "metadata": {},
   "outputs": [
    {
     "data": {
      "text/plain": [
       "3.141592653589793"
      ]
     },
     "execution_count": 78,
     "metadata": {},
     "output_type": "execute_result"
    }
   ],
   "source": [
    "pi"
   ]
  },
  {
   "cell_type": "code",
   "execution_count": null,
   "id": "94a53d5c-d2f7-4b03-a79d-3e2900e2b65d",
   "metadata": {},
   "outputs": [],
   "source": []
  },
  {
   "cell_type": "code",
   "execution_count": null,
   "id": "011752e1-0b20-4a7f-b0ce-73e7387a38e0",
   "metadata": {},
   "outputs": [],
   "source": []
  }
 ],
 "metadata": {
  "kernelspec": {
   "display_name": "Python 3 (ipykernel)",
   "language": "python",
   "name": "python3"
  },
  "language_info": {
   "codemirror_mode": {
    "name": "ipython",
    "version": 3
   },
   "file_extension": ".py",
   "mimetype": "text/x-python",
   "name": "python",
   "nbconvert_exporter": "python",
   "pygments_lexer": "ipython3",
   "version": "3.10.12"
  }
 },
 "nbformat": 4,
 "nbformat_minor": 5
}
